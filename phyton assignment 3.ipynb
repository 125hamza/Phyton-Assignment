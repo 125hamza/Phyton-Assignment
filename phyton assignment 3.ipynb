{
 "cells": [
  {
   "cell_type": "code",
   "execution_count": 1,
   "metadata": {},
   "outputs": [
    {
     "name": "stdout",
     "output_type": "stream",
     "text": [
      "Enter Number 1: 50\n",
      "Enter Number 2: 2\n",
      "Enter operation eg (-,+,/,*,**): /\n",
      "Division of  50.0  and  2.0  is  25.0\n"
     ]
    }
   ],
   "source": [
    "num1 = float(input('Enter Number 1: '))\n",
    "num2 = float(input('Enter Number 2: '))\n",
    "operator = input('Enter operation eg (-,+,/,*,**): ')\n",
    "\n",
    "if (operator == '-'):\n",
    "    result = num1 - num2\n",
    "    print(\"Subtraction of \",num1,\" and \",num2,\" is \",result)\n",
    "elif(operator == '+'):\n",
    "    result = num1 + num2\n",
    "    print(\"Addition of \",num1,\" and \",num2,\" is \",result)\n",
    "elif(operator == '/'):\n",
    "    result = num1/num2\n",
    "    print(\"Division of \",num1,\" and \",num2,\" is \",result)\n",
    "elif(operator == '*'):\n",
    "    result = num1 * num2\n",
    "    print(\"Multiplication of \",num1,\" and \",num2,\" is \",result)\n",
    "elif(operator == '**'):\n",
    "    result = num1 ** num2\n",
    "    print(num1,\" power \",num2,\" is: \",result)\n",
    "else:\n",
    "    print('Enter correct operator')"
   ]
  },
  {
   "cell_type": "code",
   "execution_count": 2,
   "metadata": {},
   "outputs": [
    {
     "name": "stdout",
     "output_type": "stream",
     "text": [
      "Found numeric value:  200\n",
      "Found numeric value:  30\n"
     ]
    }
   ],
   "source": [
    "myList  = [\"Hello\", \"World\", 200, \"Python\", \"Java\",True,30]\n",
    "\n",
    "for i in myList:\n",
    "    if type(i) == int:\n",
    "        print(\"Found numeric value: \",i)"
   ]
  },
  {
   "cell_type": "code",
   "execution_count": 3,
   "metadata": {},
   "outputs": [
    {
     "name": "stdout",
     "output_type": "stream",
     "text": [
      "{'Num1': 255, 'Num2': 256, 'Num3': 257}\n",
      "{'Num1': 255, 'Num2': 256, 'Num3': 257, 'Num4': 258}\n"
     ]
    }
   ],
   "source": [
    "my_dict = {\"Num1\":255, \"Num2\":256,\"Num3\":257}  \n",
    "print(my_dict)  \n",
    "my_dict.update({\"Num4\":258})  \n",
    "print(my_dict)"
   ]
  },
  {
   "cell_type": "code",
   "execution_count": 4,
   "metadata": {},
   "outputs": [
    {
     "name": "stdout",
     "output_type": "stream",
     "text": [
      "Sum in Dictionary is: 763\n"
     ]
    }
   ],
   "source": [
    "my_dict = {\"Num1\":250, \"Num2\":256,\"Num3\":257}\n",
    "\n",
    "mySum = 0\n",
    "for i in my_dict:\n",
    "    mySum+=my_dict[i]\n",
    "    \n",
    "print('Sum in Dictionary is:',mySum)"
   ]
  },
  {
   "cell_type": "code",
   "execution_count": 5,
   "metadata": {},
   "outputs": [
    {
     "name": "stdout",
     "output_type": "stream",
     "text": [
      "['World']\n"
     ]
    }
   ],
   "source": [
    "my_list = [\"Hello\",\"World\",\"Python\",\"World\",\"Helo\"]\n",
    "repeated_list = []\n",
    "\n",
    "size = len(my_list)\n",
    "for i in range(size):\n",
    "    tmp = i+1\n",
    "    for j in range(tmp,len(my_list)):\n",
    "        if my_list[i] == my_list[j] and my_list[i] not in repeated_list: \n",
    "            repeated_list.append(my_list[i])\n",
    "print(repeated_list)"
   ]
  },
  {
   "cell_type": "code",
   "execution_count": 6,
   "metadata": {},
   "outputs": [
    {
     "name": "stdout",
     "output_type": "stream",
     "text": [
      "found\n"
     ]
    }
   ],
   "source": [
    "my_dict = {\"Num1\":250, \"Num2\":256,\"Num3\":257,\"Num4\":223}\n",
    "\n",
    "key = \"Num2\"\n",
    "\n",
    "if key in my_dict:\n",
    "    print('found')\n",
    "else:\n",
    "    print('not found')"
   ]
  },
  {
   "cell_type": "code",
   "execution_count": null,
   "metadata": {},
   "outputs": [],
   "source": []
  }
 ],
 "metadata": {
  "kernelspec": {
   "display_name": "Python 3",
   "language": "python",
   "name": "python3"
  },
  "language_info": {
   "codemirror_mode": {
    "name": "ipython",
    "version": 3
   },
   "file_extension": ".py",
   "mimetype": "text/x-python",
   "name": "python",
   "nbconvert_exporter": "python",
   "pygments_lexer": "ipython3",
   "version": "3.7.4"
  }
 },
 "nbformat": 4,
 "nbformat_minor": 2
}
