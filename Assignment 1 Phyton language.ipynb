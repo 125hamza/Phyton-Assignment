{
 "cells": [
  {
   "cell_type": "code",
   "execution_count": 1,
   "metadata": {},
   "outputs": [
    {
     "name": "stdout",
     "output_type": "stream",
     "text": [
      "Twinkle, twinkle, little start,How I wonder what you are!up above the world so high,like the diamond in the sky.Twinkle, twinkle, little start,How I wonder what you are!\n"
     ]
    }
   ],
   "source": [
    "a = \"Twinkle, twinkle, little start,\"\n",
    "b = \"How I wonder what you are!\"\n",
    "c = \"up above the world so high,\"\n",
    "d = \"like the diamond in the sky.\"\n",
    "e = \"Twinkle, twinkle, little start,\"\n",
    "f = \"How I wonder what you are!\"\n",
    "g = a + b + c + d + e + f\n",
    "print(g)"
   ]
  },
  {
   "cell_type": "code",
   "execution_count": 2,
   "metadata": {},
   "outputs": [
    {
     "name": "stdout",
     "output_type": "stream",
     "text": [
      "phyton version\n",
      " 3.7.4 (default, Aug  9 2019, 18:34:13) [MSC v.1915 64 bit (AMD64)]\n"
     ]
    }
   ],
   "source": [
    "import sys\n",
    "\n",
    "system = \"phyton version\\n\"\n",
    "print(system, sys.version)\n"
   ]
  },
  {
   "cell_type": "code",
   "execution_count": 3,
   "metadata": {},
   "outputs": [
    {
     "name": "stdout",
     "output_type": "stream",
     "text": [
      "2019-10-31 12:21:20.447605\n"
     ]
    }
   ],
   "source": [
    "from datetime import datetime\n",
    "\n",
    "pt= datetime.now()\n",
    "print(pt)"
   ]
  },
  {
   "cell_type": "code",
   "execution_count": 4,
   "metadata": {},
   "outputs": [
    {
     "name": "stdout",
     "output_type": "stream",
     "text": [
      "Enter radius of a circle120\n",
      "Area of a circle is 45216.0\n"
     ]
    }
   ],
   "source": [
    "r=int(input(\"Enter radius of a circle\"))\n",
    "a=3.14*r**2\n",
    "print(\"Area of a circle is\",a)"
   ]
  },
  {
   "cell_type": "code",
   "execution_count": 5,
   "metadata": {},
   "outputs": [
    {
     "name": "stdout",
     "output_type": "stream",
     "text": [
      "Choudhary Hamza\n"
     ]
    }
   ],
   "source": [
    "First_name = \"Hamza\"\n",
    "Last_name = \"Choudhary\"\n",
    "Full_name = Last_name +\" \"+ First_name\n",
    "print(Full_name)"
   ]
  },
  {
   "cell_type": "code",
   "execution_count": 7,
   "metadata": {},
   "outputs": [
    {
     "name": "stdout",
     "output_type": "stream",
     "text": [
      "Enter your emailhamzachoudhry55@gmail.com\n",
      "Enter your passwardhamza12345\n",
      "hamzachoudhry55@gmail.com hamza12345\n"
     ]
    }
   ],
   "source": [
    "x = input(\"Enter your email\")\n",
    "y = input(\"Enter your passward\")\n",
    "z = x +\" \"+ y\n",
    "print(z)"
   ]
  },
  {
   "cell_type": "code",
   "execution_count": null,
   "metadata": {},
   "outputs": [],
   "source": []
  }
 ],
 "metadata": {
  "kernelspec": {
   "display_name": "Python 3",
   "language": "python",
   "name": "python3"
  },
  "language_info": {
   "codemirror_mode": {
    "name": "ipython",
    "version": 3
   },
   "file_extension": ".py",
   "mimetype": "text/x-python",
   "name": "python",
   "nbconvert_exporter": "python",
   "pygments_lexer": "ipython3",
   "version": "3.7.4"
  }
 },
 "nbformat": 4,
 "nbformat_minor": 2
}
